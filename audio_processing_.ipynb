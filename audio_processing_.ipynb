{
  "nbformat": 4,
  "nbformat_minor": 0,
  "metadata": {
    "colab": {
      "name": "audio processing .ipynb",
      "provenance": [],
      "collapsed_sections": []
    },
    "kernelspec": {
      "name": "python3",
      "display_name": "Python 3"
    },
    "language_info": {
      "name": "python"
    }
  },
  "cells": [
    {
      "cell_type": "code",
      "source": [
        "!pip install -q tensorflow-io\n",
        "!pip install -q pydub"
      ],
      "metadata": {
        "colab": {
          "base_uri": "https://localhost:8080/"
        },
        "id": "pibUhptrkrD0",
        "outputId": "11617b81-9c05-4dd5-b1e4-cf24ec0fc81e"
      },
      "execution_count": 11,
      "outputs": [
        {
          "output_type": "stream",
          "name": "stdout",
          "text": [
            "Collecting pydub\n",
            "  Downloading pydub-0.25.1-py2.py3-none-any.whl (32 kB)\n",
            "Installing collected packages: pydub\n",
            "Successfully installed pydub-0.25.1\n"
          ]
        }
      ]
    },
    {
      "cell_type": "code",
      "execution_count": 143,
      "metadata": {
        "id": "IL6rG9TvkWuK"
      },
      "outputs": [],
      "source": [
        "import tensorflow as tf\n",
        "import tensorflow_datasets as tfds\n",
        "import tensorflow_io as tfio\n",
        "\n",
        "from tensorflow import keras\n",
        "from tensorflow import lite as tflite\n",
        "from keras import layers\n",
        "\n",
        "import matplotlib.pyplot as plt"
      ]
    },
    {
      "cell_type": "code",
      "source": [
        "tfds.disable_progress_bar()"
      ],
      "metadata": {
        "id": "mmqRAJt-kgqA"
      },
      "execution_count": 8,
      "outputs": []
    },
    {
      "cell_type": "code",
      "source": [
        "split = ['train', 'validation', 'test']\n",
        "\n",
        "training_data, validation_date, test_data = tfds.load('crema_d', as_supervised=True, split=split)"
      ],
      "metadata": {
        "id": "_nYZwNXhllEX"
      },
      "execution_count": 15,
      "outputs": []
    },
    {
      "cell_type": "code",
      "source": [
        "input_len = 20000\n",
        "\n",
        "def preprocess(audio, label):\n",
        "  audio = tf.cast(audio, tf.float32)\n",
        "\n",
        "  audio = audio[:input_len]\n",
        "  zero_padding = tf.zeros(\n",
        "      [input_len] - tf.shape(audio),\n",
        "      dtype=tf.float32)\n",
        "  \n",
        "  equal_length = tf.concat([audio, zero_padding], 0)\n",
        "  spectrogram = tfio.audio.spectrogram(\n",
        "    audio, nfft=512, window=256, stride=256)\n",
        "  \n",
        "  spectrogram = tf.abs(spectrogram)\n",
        "  spectrogram = spectrogram[..., tf.newaxis]\n",
        "\n",
        "  return spectrogram, label"
      ],
      "metadata": {
        "id": "nIfywcTaokhk"
      },
      "execution_count": 121,
      "outputs": []
    },
    {
      "cell_type": "code",
      "source": [
        "processed = validation_date.map(preprocess)\n",
        "for spec, label in processed:\n",
        "  if spec.shape != (79, 257, 1):\n",
        "    print(spec.shape)"
      ],
      "metadata": {
        "id": "k6s4uLTEqN2M"
      },
      "execution_count": 122,
      "outputs": []
    },
    {
      "cell_type": "code",
      "source": [
        "training_data = training_data.map(preprocess).shuffle(1000).batch(32).cache().prefetch(1)\n",
        "validation_date = validation_date.map(preprocess).batch(32).cache().prefetch(1)\n",
        "test_data = test_data.map(preprocess).batch(32).cache().prefetch(1)"
      ],
      "metadata": {
        "id": "CuKosg1iovGk"
      },
      "execution_count": 128,
      "outputs": []
    },
    {
      "cell_type": "code",
      "source": [
        "input_shape = (79, 257, 1)\n",
        "\n",
        "model = keras.models.Sequential([\n",
        "  layers.Input(shape=input_shape, name='input_layer'),\n",
        "  layers.BatchNormalization(name='bn_0'),\n",
        "  layers.SeparableConv2D(filters=8, kernel_size=3, padding='same', strides=2, activation='relu', name='conv_1'),\n",
        "  layers.BatchNormalization(name='bn_1'),\n",
        "  layers.SeparableConv2D(filters=16, kernel_size=3, padding='same', strides=2, activation='relu', name='conv_2'),\n",
        "  layers.BatchNormalization(name='bn_2'),\n",
        "  layers.SeparableConv2D(filters=32, kernel_size=3, padding='same', strides=2, activation='relu', name='conv_3'),\n",
        "  layers.BatchNormalization(name='bn_3'),\n",
        "  layers.SeparableConv2D(filters=32, kernel_size=3, padding='same', strides=2, activation='relu', name='conv_4'),\n",
        "\n",
        "  layers.GlobalMaxPooling2D(name='global_average_pooling'),\n",
        "\n",
        "  layers.Dense(6, activation='softmax')\n",
        "], name='audio_model')\n",
        "\n",
        "model.summary()"
      ],
      "metadata": {
        "colab": {
          "base_uri": "https://localhost:8080/"
        },
        "id": "GcieF7lHnwmL",
        "outputId": "3d7d3c35-6392-4166-eb06-e34a39660723"
      },
      "execution_count": 137,
      "outputs": [
        {
          "output_type": "stream",
          "name": "stdout",
          "text": [
            "Model: \"audio_model\"\n",
            "_________________________________________________________________\n",
            " Layer (type)                Output Shape              Param #   \n",
            "=================================================================\n",
            " bn_0 (BatchNormalization)   (None, 79, 257, 1)        4         \n",
            "                                                                 \n",
            " conv_1 (SeparableConv2D)    (None, 40, 129, 8)        25        \n",
            "                                                                 \n",
            " bn_1 (BatchNormalization)   (None, 40, 129, 8)        32        \n",
            "                                                                 \n",
            " conv_2 (SeparableConv2D)    (None, 20, 65, 16)        216       \n",
            "                                                                 \n",
            " bn_2 (BatchNormalization)   (None, 20, 65, 16)        64        \n",
            "                                                                 \n",
            " conv_3 (SeparableConv2D)    (None, 10, 33, 32)        688       \n",
            "                                                                 \n",
            " bn_3 (BatchNormalization)   (None, 10, 33, 32)        128       \n",
            "                                                                 \n",
            " conv_4 (SeparableConv2D)    (None, 5, 17, 32)         1344      \n",
            "                                                                 \n",
            " global_average_pooling (Glo  (None, 32)               0         \n",
            " balMaxPooling2D)                                                \n",
            "                                                                 \n",
            " dense_6 (Dense)             (None, 6)                 198       \n",
            "                                                                 \n",
            "=================================================================\n",
            "Total params: 2,699\n",
            "Trainable params: 2,585\n",
            "Non-trainable params: 114\n",
            "_________________________________________________________________\n"
          ]
        }
      ]
    },
    {
      "cell_type": "code",
      "source": [
        "model.compile(\n",
        "    loss='sparse_categorical_crossentropy',\n",
        "    optimizer=keras.optimizers.Adam(learning_rate=0.001),\n",
        "    metrics=['accuracy']\n",
        ")"
      ],
      "metadata": {
        "id": "EsdsxAWwwiH3"
      },
      "execution_count": 138,
      "outputs": []
    },
    {
      "cell_type": "code",
      "source": [
        "history = model.fit(training_data, validation_data=validation_date, epochs=5)"
      ],
      "metadata": {
        "colab": {
          "base_uri": "https://localhost:8080/"
        },
        "id": "kOHMv3CvwABE",
        "outputId": "e7ba917a-46fc-49e3-d61b-e3e54b76e2cc"
      },
      "execution_count": 139,
      "outputs": [
        {
          "output_type": "stream",
          "name": "stdout",
          "text": [
            "Epoch 1/5\n",
            "161/161 [==============================] - 29s 174ms/step - loss: 1.6946 - accuracy: 0.3000 - val_loss: 1.7204 - val_accuracy: 0.2304\n",
            "Epoch 2/5\n",
            "161/161 [==============================] - 34s 213ms/step - loss: 1.5693 - accuracy: 0.3474 - val_loss: 1.6492 - val_accuracy: 0.2832\n",
            "Epoch 3/5\n",
            "161/161 [==============================] - 28s 173ms/step - loss: 1.5290 - accuracy: 0.3680 - val_loss: 1.5794 - val_accuracy: 0.3780\n",
            "Epoch 4/5\n",
            "161/161 [==============================] - 41s 257ms/step - loss: 1.4966 - accuracy: 0.3847 - val_loss: 1.5287 - val_accuracy: 0.3957\n",
            "Epoch 5/5\n",
            "161/161 [==============================] - 28s 173ms/step - loss: 1.4707 - accuracy: 0.3995 - val_loss: 1.5164 - val_accuracy: 0.3875\n"
          ]
        },
        {
          "output_type": "execute_result",
          "data": {
            "text/plain": [
              "<keras.callbacks.History at 0x7f40b9574f90>"
            ]
          },
          "metadata": {},
          "execution_count": 139
        }
      ]
    },
    {
      "cell_type": "code",
      "source": [
        "model.evaluate(test_data)"
      ],
      "metadata": {
        "colab": {
          "base_uri": "https://localhost:8080/"
        },
        "id": "7T9kl9zwwwIl",
        "outputId": "ef8dfae1-3454-453b-8edf-fbb6a8b232bc"
      },
      "execution_count": 141,
      "outputs": [
        {
          "output_type": "stream",
          "name": "stdout",
          "text": [
            "49/49 [==============================] - 11s 213ms/step - loss: 1.4735 - accuracy: 0.3952\n"
          ]
        },
        {
          "output_type": "execute_result",
          "data": {
            "text/plain": [
              "[1.473469614982605, 0.39524421095848083]"
            ]
          },
          "metadata": {},
          "execution_count": 141
        }
      ]
    },
    {
      "cell_type": "code",
      "source": [
        "tf.saved_model.save(model, 'model_v0')"
      ],
      "metadata": {
        "colab": {
          "base_uri": "https://localhost:8080/"
        },
        "id": "ri_NlyR_zBaX",
        "outputId": "a531136a-8526-4753-e02a-10205ae79833"
      },
      "execution_count": 142,
      "outputs": [
        {
          "output_type": "stream",
          "name": "stdout",
          "text": [
            "INFO:tensorflow:Assets written to: model_v0/assets\n"
          ]
        },
        {
          "output_type": "stream",
          "name": "stderr",
          "text": [
            "INFO:tensorflow:Assets written to: model_v0/assets\n"
          ]
        }
      ]
    },
    {
      "cell_type": "code",
      "source": [
        "converter = tflite.TFLiteConverter.from_saved_model('model_v0')\n",
        "\n",
        "converter.optimizations = [tf.lite.Optimize.OPTIMIZE_FOR_SIZE]\n",
        "\n",
        "# converter.target_spec.supported_ops = [tf.lite.OpsSet.TFLITE_BUILTINS_INT8]\n",
        "# converter.representative_dataset = test_data\n",
        "# converter.inference_input_type = tf.int8  # or tf.uint8\n",
        "# converter.inference_output_type = tf.int8  # or tf.uint8\n",
        "\n",
        "tflite_model = converter.convert()"
      ],
      "metadata": {
        "colab": {
          "base_uri": "https://localhost:8080/"
        },
        "id": "UWs_KEMUzcDs",
        "outputId": "b01b33e4-324c-46a8-8b2d-e4bb30e468b9"
      },
      "execution_count": 151,
      "outputs": [
        {
          "output_type": "stream",
          "name": "stderr",
          "text": [
            "WARNING:absl:Optimization option OPTIMIZE_FOR_SIZE is deprecated, please use optimizations=[Optimize.DEFAULT] instead.\n",
            "WARNING:absl:Optimization option OPTIMIZE_FOR_SIZE is deprecated, please use optimizations=[Optimize.DEFAULT] instead.\n",
            "WARNING:absl:Optimization option OPTIMIZE_FOR_SIZE is deprecated, please use optimizations=[Optimize.DEFAULT] instead.\n",
            "WARNING:absl:Buffer deduplication procedure will be skipped when flatbuffer library is not properly loaded\n"
          ]
        }
      ]
    },
    {
      "cell_type": "code",
      "source": [
        "print(len(tflite_model))"
      ],
      "metadata": {
        "colab": {
          "base_uri": "https://localhost:8080/"
        },
        "id": "nk_M23AAz9rf",
        "outputId": "b3d63f38-e1da-4ccf-e089-f426c3886a05"
      },
      "execution_count": 152,
      "outputs": [
        {
          "output_type": "stream",
          "name": "stdout",
          "text": [
            "15680\n"
          ]
        }
      ]
    },
    {
      "cell_type": "code",
      "source": [
        "with open('model.tflite', 'wb') as f:\n",
        "  f.write(tflite_model)"
      ],
      "metadata": {
        "id": "4sdSOlLs0SH1"
      },
      "execution_count": 153,
      "outputs": []
    },
    {
      "cell_type": "code",
      "source": [
        ""
      ],
      "metadata": {
        "id": "5uCC4-360sCt"
      },
      "execution_count": null,
      "outputs": []
    }
  ]
}